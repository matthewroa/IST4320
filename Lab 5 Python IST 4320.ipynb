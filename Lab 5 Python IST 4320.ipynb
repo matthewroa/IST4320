{
 "cells": [
  {
   "cell_type": "code",
   "execution_count": 1,
   "id": "ab76a1a5-d07d-4211-b720-0b2ffdfeea7b",
   "metadata": {
    "tags": []
   },
   "outputs": [],
   "source": [
    "def function1():\n",
    "    print (\"Hello world!\")"
   ]
  },
  {
   "cell_type": "code",
   "execution_count": 2,
   "id": "ce7a7a50-dc75-4f99-8fa7-7aebfaa8d114",
   "metadata": {
    "tags": []
   },
   "outputs": [
    {
     "name": "stdout",
     "output_type": "stream",
     "text": [
      "Hello world!\n"
     ]
    }
   ],
   "source": [
    "function1()"
   ]
  },
  {
   "cell_type": "code",
   "execution_count": null,
   "id": "1996e142-a4bf-41ab-9cda-6bb532a8c208",
   "metadata": {},
   "outputs": [],
   "source": []
  }
 ],
 "metadata": {
  "kernelspec": {
   "display_name": "Python 3 (ipykernel)",
   "language": "python",
   "name": "python3"
  },
  "language_info": {
   "codemirror_mode": {
    "name": "ipython",
    "version": 3
   },
   "file_extension": ".py",
   "mimetype": "text/x-python",
   "name": "python",
   "nbconvert_exporter": "python",
   "pygments_lexer": "ipython3",
   "version": "3.10.9"
  }
 },
 "nbformat": 4,
 "nbformat_minor": 5
}
